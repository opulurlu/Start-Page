{
 "cells": [
  {
   "cell_type": "code",
   "execution_count": 542,
   "id": "8b5083f6",
   "metadata": {},
   "outputs": [],
   "source": [
    "    class Menkul():\n",
    "        hisseAdi = 'EREGL'\n",
    "        def __init__(self, isl_fiy,adet,portf_deg,k_fiy,hacim,kom,b_kar):\n",
    "            self.isl_fiy=isl_fiy   \n",
    "            self.adet = adet\n",
    "            self.portf_deg = portf_deg\n",
    "            self.k_fiy = k_fiy\n",
    "            self.hacim = hacim \n",
    "            self.kom = kom\n",
    "            self.b_kar = b_kar\n",
    "            \n",
    "        def __repr__(self):\n",
    "            return \"{} eregli verilerini görebilirsin\".format(self.isl_fiy)\n",
    "        def kar(self):\n",
    "           \n",
    "            return \"Bugün {} tl den aldıgım {}adet hisse{}tl degerine ulasmistir {}tl lik kapanis fiyatiyla satarak gunun sonuda {} tl hacim uzerinden odediğim {} tl komisyonu dustugumde kalan net kar {} tl oldu.\".format(\n",
    "            self.isl_fiy,\n",
    "            self.adet,\n",
    "            self.portf_deg,\n",
    "            self.k_fiy,    \n",
    "            self.hacim,\n",
    "            self.kom,\n",
    "            self.b_kar,\n",
    "            ) \n",
    "        def zarar(self):\n",
    "            eregli2=Menkul(26,1000,1,1,52240,28.00,351,1880,12,14,1530)\n",
    "            return \"Bugün  {} ten alınan {} adetlik hissesi yapilan islem sonucunda portfoy {} olmustur. Kapanıs fiyatı {} olan hisse {} fiyattan satılmıs {} hacime ulaşarak {} kom gideri ve {} zararla sonuclanmistir.\"\n",
    "        \n",
    "        def alis_isl(self):\n",
    "            eregli=Menkul(30.65,125,4018,32.15,8036,5.63,181.87,1,1,1) \n",
    "            return\"Bugün {} alıs  fiyatı üzerinden {} adetlik alım islemi sonucunda portfoy {} değere ulasmıstır.{} kapanıs fiyatı bulunan hissede satıs olmamıstır.\"\n",
    "        \n",
    "#'Bugün alıs  fiyatı üzerinden adetlik islem sonucunda t lik değere ulasmıstır.t kapanıs fiyatı bulunan hisse t lik fiyattan satılmıs ve günlük hacim t olup t lik kar elde edilmistir\n",
    "#'. fiyattan kapanan ereglinin günlük işlem karı -50, ödenen komisyon 110 ve net karı -36 dir.'"
   ]
  },
  {
   "cell_type": "code",
   "execution_count": 543,
   "id": "8704f223",
   "metadata": {},
   "outputs": [],
   "source": [
    " eregli=Menkul(30.65,125,4018,32.15,8036,5.66,181.15) "
   ]
  },
  {
   "cell_type": "code",
   "execution_count": 544,
   "id": "600db82d",
   "metadata": {},
   "outputs": [
    {
     "data": {
      "text/plain": [
       "'Bugün 30.65 tl den aldıgım 125adet hisse4018tl degerine ulasmistir 32.15tl lik kapanis fiyatiyla satarak gunun sonuda 8036 tl hacim uzerinden odediğim 5.66 tl komisyonu dustugumde kalan net kar 181.15 tl oldu.'"
      ]
     },
     "execution_count": 544,
     "metadata": {},
     "output_type": "execute_result"
    }
   ],
   "source": [
    "eregli.kar()"
   ]
  },
  {
   "cell_type": "code",
   "execution_count": 545,
   "id": "5bd9d748",
   "metadata": {},
   "outputs": [
    {
     "data": {
      "text/plain": [
       "20.25 eregli verilerini görebilirsin"
      ]
     },
     "execution_count": 545,
     "metadata": {},
     "output_type": "execute_result"
    }
   ],
   "source": [
    "eregli3"
   ]
  },
  {
   "cell_type": "code",
   "execution_count": null,
   "id": "28a3c333",
   "metadata": {
    "scrolled": true
   },
   "outputs": [],
   "source": [
    "  "
   ]
  },
  {
   "cell_type": "code",
   "execution_count": null,
   "id": "8b78ab50",
   "metadata": {},
   "outputs": [],
   "source": []
  },
  {
   "cell_type": "code",
   "execution_count": null,
   "id": "d4e78db9",
   "metadata": {},
   "outputs": [],
   "source": []
  },
  {
   "cell_type": "code",
   "execution_count": null,
   "id": "f4fa114f",
   "metadata": {},
   "outputs": [],
   "source": []
  },
  {
   "cell_type": "code",
   "execution_count": null,
   "id": "11f61a6e",
   "metadata": {},
   "outputs": [],
   "source": []
  },
  {
   "cell_type": "code",
   "execution_count": null,
   "id": "77784bef",
   "metadata": {},
   "outputs": [],
   "source": []
  },
  {
   "cell_type": "code",
   "execution_count": null,
   "id": "8104eaf6",
   "metadata": {},
   "outputs": [],
   "source": []
  },
  {
   "cell_type": "code",
   "execution_count": null,
   "id": "2fd5455a",
   "metadata": {},
   "outputs": [],
   "source": []
  }
 ],
 "metadata": {
  "kernelspec": {
   "display_name": "Python 3 (ipykernel)",
   "language": "python",
   "name": "python3"
  },
  "language_info": {
   "codemirror_mode": {
    "name": "ipython",
    "version": 3
   },
   "file_extension": ".py",
   "mimetype": "text/x-python",
   "name": "python",
   "nbconvert_exporter": "python",
   "pygments_lexer": "ipython3",
   "version": "3.9.7"
  }
 },
 "nbformat": 4,
 "nbformat_minor": 5
}
